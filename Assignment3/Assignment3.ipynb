{
  "nbformat": 4,
  "nbformat_minor": 0,
  "metadata": {
    "colab": {
      "name": "Assignment3.ipynb",
      "provenance": []
    },
    "kernelspec": {
      "name": "python3",
      "display_name": "Python 3"
    }
  },
  "cells": [
    {
      "cell_type": "code",
      "metadata": {
        "id": "neahIgTbOpxd"
      },
      "source": [
        "import time"
      ],
      "execution_count": 3,
      "outputs": []
    },
    {
      "cell_type": "markdown",
      "metadata": {
        "id": "bzuSNN8zVMUY"
      },
      "source": [
        "# **Merge Sort**"
      ]
    },
    {
      "cell_type": "code",
      "metadata": {
        "id": "XcX-F9azNnZU",
        "outputId": "261792e7-bd8f-4951-dce6-6432987702fd",
        "colab": {
          "base_uri": "https://localhost:8080/",
          "height": 521
        }
      },
      "source": [
        "def mergeSort(arr): \n",
        "    if len(arr) >1: \n",
        "        mid = len(arr)//2 # Finding the mid of the array \n",
        "        L = arr[:mid] # Dividing the array elements  \n",
        "        R = arr[mid:] # into 2 halves \n",
        "  \n",
        "        mergeSort(L) # Sorting the first half \n",
        "        mergeSort(R) # Sorting the second half \n",
        "  \n",
        "        i = j = k = 0\n",
        "          \n",
        "        # Copy data to temp arrays L[] and R[] \n",
        "        while i < len(L) and j < len(R): \n",
        "            if L[i] < R[j]: \n",
        "                arr[k] = L[i] \n",
        "                i+= 1\n",
        "            else: \n",
        "                arr[k] = R[j] \n",
        "                j+= 1\n",
        "            k+= 1\n",
        "          \n",
        "        # Checking if any element was left \n",
        "        while i < len(L): \n",
        "            arr[k] = L[i] \n",
        "            i+= 1\n",
        "            k+= 1\n",
        "          \n",
        "        while j < len(R): \n",
        "            arr[k] = R[j] \n",
        "            j+= 1\n",
        "            k+= 1\n",
        "  \n",
        "# Code to print the list \n",
        "def printList(arr): \n",
        "    for i in range(len(arr)):         \n",
        "        print(arr[i], end =\" \") \n",
        "    print() \n",
        "  \n",
        "# driver code to test the above code \n",
        "if __name__ == '__main__': \n",
        "    A = [2.5, 4.5, 3.0,1.2,6.5,8.9,7.4,6.3] \n",
        "    B = [5,3,6,3,4,5,4,6,4]\n",
        "    print (\"Array A is \", end =\"\\n\\n\")  \n",
        "    printList(A) \n",
        "    start=time.time()\n",
        "    mergeSort(A)\n",
        "    end=time.time() \n",
        "    print(\"\\n\\n\")\n",
        "    print(\"Sorted array A is: \", end =\"\\n\\n\") \n",
        "    printList(A) \n",
        "    print(\"\\n\\n\")\n",
        "    print(\"Time taken for execution is :\",end-start)\n",
        "    print(\"\\n\\n\")\n",
        "    print (\"Array B is \", end =\"\\n\\n\")  \n",
        "    printList(B) \n",
        "    start1=time.time()\n",
        "    mergeSort(B) \n",
        "    end1=time.time()\n",
        "    print(\"\\n\\n\")\n",
        "    print(\"Sorted array B is: \", end =\"\\n\\n\") \n",
        "    printList(B) \n",
        "    print(\"\\n\\n\")\n",
        "    print(\"Time taken for execution is :\",end1-start1)"
      ],
      "execution_count": 5,
      "outputs": [
        {
          "output_type": "stream",
          "text": [
            "Array A is \n",
            "\n",
            "2.5 4.5 3.0 1.2 6.5 8.9 7.4 6.3 \n",
            "\n",
            "\n",
            "\n",
            "Sorted array A is: \n",
            "\n",
            "1.2 2.5 3.0 4.5 6.3 6.5 7.4 8.9 \n",
            "\n",
            "\n",
            "\n",
            "Time taken for execution is : 3.314018249511719e-05\n",
            "\n",
            "\n",
            "\n",
            "Array B is \n",
            "\n",
            "5 3 6 3 4 5 4 6 4 \n",
            "\n",
            "\n",
            "\n",
            "Sorted array B is: \n",
            "\n",
            "3 3 4 4 4 5 5 6 6 \n",
            "\n",
            "\n",
            "\n",
            "Time taken for execution is : 6.937980651855469e-05\n"
          ],
          "name": "stdout"
        }
      ]
    },
    {
      "cell_type": "markdown",
      "metadata": {
        "id": "DXNliOl6Vb-V"
      },
      "source": [
        "# **Quick Sort**"
      ]
    },
    {
      "cell_type": "code",
      "metadata": {
        "id": "Y9F0YKjMTihW",
        "outputId": "79cf13fa-5613-4581-9014-2c599315b403",
        "colab": {
          "base_uri": "https://localhost:8080/",
          "height": 521
        }
      },
      "source": [
        "def partition(array, start, end):\n",
        "    pivot = array[start]\n",
        "    low = start + 1\n",
        "    high = end\n",
        "\n",
        "    while True:\n",
        "        \n",
        "        while low <= high and array[high] >= pivot:\n",
        "            high = high - 1\n",
        "\n",
        "        # Opposite process of the one above\n",
        "        while low <= high and array[low] <= pivot:\n",
        "            low = low + 1\n",
        "\n",
        "        # We either found a value for both high and low that is out of order\n",
        "        # or low is higher than high, in which case we exit the loop\n",
        "        if low <= high:\n",
        "            array[low], array[high] = array[high], array[low]\n",
        "            # The loop continues\n",
        "        else:\n",
        "            # We exit out of the loop\n",
        "            break\n",
        "\n",
        "    array[start], array[high] = array[high], array[start]\n",
        "\n",
        "    return high\n",
        "\n",
        "\n",
        "\n",
        "def quick_sort(array, start, end):\n",
        "    if start >= end:\n",
        "        return\n",
        "\n",
        "    p = partition(array, start, end)\n",
        "    quick_sort(array, start, p-1)\n",
        "    quick_sort(array, p+1, end)\n",
        "\n",
        "\n",
        "\n",
        "\n",
        "A = [2.5, 4.5, 3.0,1.2,6.5,8.9,7.4,6.3] \n",
        "B = [5,3,6,3,4,5,4,6,4]\n",
        "\n",
        "\n",
        "print (\"Array A is \", end =\"\\n\\n\") \n",
        "printList(A) \n",
        "print(\"\\n\\n\")\n",
        "print (\"Sorted array A is:\",end =\"\\n\\n\")\n",
        "start=time.time() \n",
        "quick_sort(A, 0, len(A) - 1)\n",
        "end=time.time() \n",
        "printList(A) \n",
        "print(\"\\n\\n\")\n",
        "print(\"Time taken for execution is :\",end-start) \n",
        "print(\"\\n\\n\")\n",
        "print (\"Array B is \", end =\"\\n\\n\") \n",
        "printList(B) \n",
        "print(\"\\n\\n\")\n",
        "print (\"Sorted array B is:\",end =\"\\n\\n\")\n",
        "start1=time.time()\n",
        "quick_sort(B, 0, len(B) - 1)\n",
        "end1=time.time()\n",
        "printList(B)\n",
        "print(\"\\n\\n\")\n",
        "print(\"Time taken for execution is :\",end1-start1)"
      ],
      "execution_count": 13,
      "outputs": [
        {
          "output_type": "stream",
          "text": [
            "Array A is \n",
            "\n",
            "2.5 4.5 3.0 1.2 6.5 8.9 7.4 6.3 \n",
            "\n",
            "\n",
            "\n",
            "Sorted array A is:\n",
            "\n",
            "1.2 2.5 3.0 4.5 6.3 6.5 7.4 8.9 \n",
            "\n",
            "\n",
            "\n",
            "Time taken for execution is : 6.365776062011719e-05\n",
            "\n",
            "\n",
            "\n",
            "Array B is \n",
            "\n",
            "5 3 6 3 4 5 4 6 4 \n",
            "\n",
            "\n",
            "\n",
            "Sorted array B is:\n",
            "\n",
            "3 3 4 4 4 5 5 6 6 \n",
            "\n",
            "\n",
            "\n",
            "Time taken for execution is : 6.0558319091796875e-05\n"
          ],
          "name": "stdout"
        }
      ]
    }
  ]
}